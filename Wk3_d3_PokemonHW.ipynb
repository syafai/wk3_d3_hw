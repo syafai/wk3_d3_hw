{
 "cells": [
  {
   "cell_type": "code",
   "execution_count": null,
   "id": "39a5770e",
   "metadata": {},
   "outputs": [],
   "source": [
    "import requests\n",
    "\n",
    "class Pokemon:\n",
    "    def __init__(self, name):\n",
    "        self.name = name\n",
    "        self.moves = []\n",
    "\n",
    "    def speak(self):\n",
    "        print(f\"{self.name}!\")\n",
    "\n",
    "    def learn_move(self, move):\n",
    "        if move in self.moves:\n",
    "            print(f\"{self.name} has learned {move}!\")\n",
    "        else:\n",
    "            print(f\"{self.name} cannot learn {move}.\")\n",
    "\n",
    "class Move_Tutor(Pokemon):\n",
    "    move_api_url = \"https://pokeapi.co/api/v2/move\"\n",
    "\n",
    "    def __init__(self, name):\n",
    "        super().__init__(name)\n",
    "        self.populate_moves()\n",
    "\n",
    "    def populate_moves(self):\n",
    "        response = requests.get(self.move_api_url)\n",
    "        data = response.json()\n",
    "        move_results = data['results']\n",
    "        self.moves = [move['name'] for move in move_results]\n",
    "\n",
    "    def teach_moves(self):\n",
    "        moves_to_teach = []\n",
    "        while len(moves_to_teach) < 4:\n",
    "            move = input(f\"Enter move {len(moves_to_teach) + 1}: \")\n",
    "            if move in self.moves:\n",
    "                moves_to_teach.append(move)\n",
    "            else:\n",
    "                print(f\"{move} is not available. Enter another move.\")\n",
    "\n",
    "        print(f\"Teaching {self.name} the following moves:\")\n",
    "        for move in moves_to_teach:\n",
    "            print(f\"- {move}\")\n",
    "        print(f\"{self.name} has learned {len(moves_to_teach)} moves!\")\n",
    "\n",
    "pet = Move_Tutor(input(\"What Pokemon would you like to teach moves to? \"))\n",
    "print(f\"Available moves for {pet.name}:\")\n",
    "print(pet.moves)\n",
    "\n",
    "pet.teach_moves()\n"
   ]
  },
  {
   "cell_type": "code",
   "execution_count": null,
   "id": "8231727a",
   "metadata": {},
   "outputs": [],
   "source": []
  }
 ],
 "metadata": {
  "kernelspec": {
   "display_name": "Python 3 (ipykernel)",
   "language": "python",
   "name": "python3"
  },
  "language_info": {
   "codemirror_mode": {
    "name": "ipython",
    "version": 3
   },
   "file_extension": ".py",
   "mimetype": "text/x-python",
   "name": "python",
   "nbconvert_exporter": "python",
   "pygments_lexer": "ipython3",
   "version": "3.10.9"
  }
 },
 "nbformat": 4,
 "nbformat_minor": 5
}
